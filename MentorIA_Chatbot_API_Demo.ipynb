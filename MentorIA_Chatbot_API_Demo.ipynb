{
    "cells": [
        {
            "cell_type": "markdown",
            "metadata": {
                "id": "header"
            },
            "source": [
                "# \ud83e\udd16 MentorIA Chatbot - API Demo\n",
                "\n",
                "Este notebook demuestra c\u00f3mo consumir la API del MentorIA Chatbot desplegada en Google Cloud Run.\n",
                "\n",
                "**URL del servicio:** https://redmag-chatbot-api-prod-324789362064.us-east1.run.app"
            ]
        },
        {
            "cell_type": "code",
            "execution_count": null,
            "metadata": {
                "id": "setup"
            },
            "outputs": [],
            "source": [
                "# Instalar dependencias necesarias\n",
                "!pip install requests pandas matplotlib seaborn plotly"
            ]
        },
        {
            "cell_type": "code",
            "execution_count": null,
            "metadata": {
                "id": "imports"
            },
            "outputs": [],
            "source": [
                "import requests\n",
                "import json\n",
                "import pandas as pd\n",
                "import matplotlib.pyplot as plt\n",
                "import seaborn as sns\n",
                "import plotly.express as px\n",
                "import plotly.graph_objects as go\n",
                "from datetime import datetime\n",
                "import time\n",
                "\n",
                "# Configurar el estilo de las gr\u00e1ficas\n",
                "plt.style.use('seaborn-v0_8')\n",
                "sns.set_palette(\"husl\")\n",
                "\n",
                "print(\"\u2705 Librer\u00edas importadas correctamente\")"
            ]
        },
        {
            "cell_type": "code",
            "execution_count": null,
            "metadata": {
                "id": "api_config"
            },
            "outputs": [],
            "source": [
                "# Configuraci\u00f3n de la API\n",
                "API_BASE_URL = \"https://redmag-chatbot-api-prod-324789362064.us-east1.run.app\"\n",
                "\n",
                "# Headers para las peticiones\n",
                "headers = {\n",
                "    \"Content-Type\": \"application/json\",\n",
                "    \"Accept\": \"application/json\"\n",
                "}\n",
                "\n",
                "print(f\"\ud83c\udf10 API Base URL: {API_BASE_URL}\")\n",
                "print(f\"\ud83d\udccb Headers configurados: {headers}\")"
            ]
        },
        {
            "cell_type": "code",
            "execution_count": null,
            "metadata": {
                "id": "health_check"
            },
            "outputs": [],
            "source": [
                "# Verificar que la API est\u00e9 funcionando\n",
                "def check_api_health():\n",
                "    \"\"\"Verifica el estado de salud de la API\"\"\"\n",
                "    try:\n",
                "        response = requests.get(f\"{API_BASE_URL}/health\", headers=headers, timeout=10)\n",
                "        if response.status_code == 200:\n",
                "            data = response.json()\n",
                "            print(f\"\u2705 API est\u00e1 funcionando correctamente\")\n",
                "            print(f\"\ud83d\udcca Estado: {data.get('status', 'N/A')}\")\n",
                "            print(f\"\ud83d\udd50 Timestamp: {data.get('timestamp', 'N/A')}\")\n",
                "            return True\n",
                "        else:\n",
                "            print(f\"\u274c API respondi\u00f3 con c\u00f3digo: {response.status_code}\")\n",
                "            return False\n",
                "    except Exception as e:\n",
                "        print(f\"\u274c Error conectando con la API: {str(e)}\")\n",
                "        return False\n",
                "\n",
                "# Ejecutar health check\n",
                "api_healthy = check_api_health()"
            ]
        },
        {
            "cell_type": "code",
            "execution_count": null,
            "metadata": {
                "id": "chat_functions"
            },
            "outputs": [],
            "source": [
                "# Funciones para interactuar con el chatbot\n",
                "def send_chat_message(user_id, message, conversation_id=None):\n",
                "    \"\"\"Env\u00eda un mensaje al chatbot\"\"\"\n",
                "    payload = {\n",
                "        \"user_id\": user_id,\n",
                "        \"message\": message\n",
                "    }\n",
                "    \n",
                "    if conversation_id:\n",
                "        payload[\"conversation_id\"] = conversation_id\n",
                "    \n",
                "    try:\n",
                "        response = requests.post(\n",
                "            f\"{API_BASE_URL}/chat\", \n",
                "            json=payload, \n",
                "            headers=headers, \n",
                "            timeout=30\n",
                "        )\n",
                "        \n",
                "        if response.status_code == 200:\n",
                "            return response.json()\n",
                "        else:\n",
                "            print(f\"\u274c Error en la petici\u00f3n: {response.status_code}\")\n",
                "            print(f\"\ud83d\udcdd Respuesta: {response.text}\")\n",
                "            return None\n",
                "            \n",
                "    except Exception as e:\n",
                "        print(f\"\u274c Error enviando mensaje: {str(e)}\")\n",
                "        return None\n",
                "\n",
                "def send_user_data(user_id, user_data, conversation_id=None):\n",
                "    \"\"\"Env\u00eda datos estructurados del usuario\"\"\"\n",
                "    payload = {\n",
                "        \"user_id\": user_id,\n",
                "        \"user_data\": user_data\n",
                "    }\n",
                "    \n",
                "    if conversation_id:\n",
                "        payload[\"conversation_id\"] = conversation_id\n",
                "    \n",
                "    try:\n",
                "        response = requests.post(\n",
                "            f\"{API_BASE_URL}/chat\", \n",
                "            json=payload, \n",
                "            headers=headers, \n",
                "            timeout=30\n",
                "        )\n",
                "        \n",
                "        if response.status_code == 200:\n",
                "            return response.json()\n",
                "        else:\n",
                "            print(f\"\u274c Error en la petici\u00f3n: {response.status_code}\")\n",
                "            print(f\"\ud83d\udcdd Respuesta: {response.text}\")\n",
                "            return None\n",
                "            \n",
                "    except Exception as e:\n",
                "        print(f\"\u274c Error enviando datos: {str(e)}\")\n",
                "        return None\n",
                "\n",
                "print(\"\u2705 Funciones de chat configuradas\")"
            ]
        },
        {
            "cell_type": "markdown",
            "metadata": {
                "id": "demo_section"
            },
            "source": [
                "## \ud83d\ude80 Demo del Chatbot\n",
                "\n",
                "A continuaci\u00f3n probaremos diferentes funcionalidades del chatbot:"
            ]
        },
        {
            "cell_type": "code",
            "execution_count": null,
            "metadata": {
                "id": "welcome_test"
            },
            "outputs": [],
            "source": [
                "# Test 1: Mensaje de bienvenida\n",
                "print(\"\ud83e\udd16 === TEST 1: Mensaje de Bienvenida ===\")\n",
                "print(\"-\" * 50)\n",
                "\n",
                "user_id = \"demo_user_001\"\n",
                "message = \"Hola\"\n",
                "\n",
                "response = send_chat_message(user_id, message)\n",
                "\n",
                "if response:\n",
                "    print(f\"\ud83d\udc64 Usuario: {message}\")\n",
                "    print(f\"\ud83e\udd16 Respuesta: {response['data']['message']}\")\n",
                "    print(f\"\ud83d\udccb Tipo de respuesta: {response['response_type']}\")\n",
                "    print(f\"\ud83c\udd94 Conversation ID: {response['conversation_id']}\")\n",
                "    \n",
                "    # Guardar el conversation_id para continuar la conversaci\u00f3n\n",
                "    conversation_id = response['conversation_id']\n",
                "else:\n",
                "    print(\"\u274c No se pudo obtener respuesta\")\n",
                "    conversation_id = None"
            ]
        },
        {
            "cell_type": "code",
            "execution_count": null,
            "metadata": {
                "id": "user_data_test"
            },
            "outputs": [],
            "source": [
                "# Test 2: Env\u00edo de datos del usuario\n",
                "print(\"\ud83e\udd16 === TEST 2: Datos del Usuario ===\")\n",
                "print(\"-\" * 50)\n",
                "\n",
                "if conversation_id:\n",
                "    user_data = {\n",
                "        \"name\": \"Mar\u00eda Garc\u00eda\",\n",
                "        \"age\": 25,\n",
                "        \"grade\": \"3er a\u00f1o\",\n",
                "        \"subject\": \"Matem\u00e1ticas\",\n",
                "        \"learning_style\": \"visual\",\n",
                "        \"goals\": [\"Mejorar en \u00e1lgebra\", \"Entender geometr\u00eda\"]\n",
                "    }\n",
                "    \n",
                "    response = send_user_data(user_id, user_data, conversation_id)\n",
                "    \n",
                "    if response:\n",
                "        print(f\"\ud83d\udc64 Datos enviados: {user_data}\")\n",
                "        print(f\"\ud83e\udd16 Respuesta: {response['data']['message']}\")\n",
                "        print(f\"\ud83d\udccb Tipo de respuesta: {response['response_type']}\")\n",
                "    else:\n",
                "        print(\"\u274c No se pudo enviar los datos del usuario\")\n",
                "else:\n",
                "    print(\"\u274c No hay conversation_id disponible\")"
            ]
        },
        {
            "cell_type": "code",
            "execution_count": null,
            "metadata": {
                "id": "query_test"
            },
            "outputs": [],
            "source": [
                "# Test 3: Consulta espec\u00edfica\n",
                "print(\"\ud83e\udd16 === TEST 3: Consulta Espec\u00edfica ===\")\n",
                "print(\"-\" * 50)\n",
                "\n",
                "if conversation_id:\n",
                "    message = \"\u00bfPuedes ayudarme con ecuaciones cuadr\u00e1ticas?\"\n",
                "    \n",
                "    response = send_chat_message(user_id, message, conversation_id)\n",
                "    \n",
                "    if response:\n",
                "        print(f\"\ud83d\udc64 Usuario: {message}\")\n",
                "        print(f\"\ud83e\udd16 Respuesta: {response['data']['message']}\")\n",
                "        print(f\"\ud83d\udccb Tipo de respuesta: {response['response_type']}\")\n",
                "    else:\n",
                "        print(\"\u274c No se pudo obtener respuesta\")\n",
                "else:\n",
                "    print(\"\u274c No hay conversation_id disponible\")"
            ]
        },
        {
            "cell_type": "code",
            "execution_count": null,
            "metadata": {
                "id": "content_test"
            },
            "outputs": [],
            "source": [
                "# Test 4: Obtener contenido MEDs\n",
                "print(\"\ud83e\udd16 === TEST 4: Contenido MEDs ===\")\n",
                "print(\"-\" * 50)\n",
                "\n",
                "def get_meds_content():\n",
                "    \"\"\"Obtiene el contenido MEDs de la API\"\"\"\n",
                "    try:\n",
                "        response = requests.get(f\"{API_BASE_URL}/content/meds\", headers=headers, timeout=30)\n",
                "        \n",
                "        if response.status_code == 200:\n",
                "            return response.json()\n",
                "        else:\n",
                "            print(f\"\u274c Error obteniendo contenido MEDs: {response.status_code}\")\n",
                "            return None\n",
                "            \n",
                "    except Exception as e:\n",
                "        print(f\"\u274c Error: {str(e)}\")\n",
                "        return None\n",
                "\n",
                "meds_content = get_meds_content()\n",
                "\n",
                "if meds_content:\n",
                "    print(f\"\u2705 Contenido MEDs obtenido: {len(meds_content)} elementos\")\n",
                "    if len(meds_content) > 0:\n",
                "        print(f\"\ud83d\udcdd Primer elemento: {meds_content[0]}\")\n",
                "else:\n",
                "    print(\"\u274c No se pudo obtener el contenido MEDs\")"
            ]
        },
        {
            "cell_type": "code",
            "execution_count": null,
            "metadata": {
                "id": "planeaciones_test"
            },
            "outputs": [],
            "source": [
                "# Test 5: Obtener contenido Planeaciones\n",
                "print(\"\ud83e\udd16 === TEST 5: Contenido Planeaciones ===\")\n",
                "print(\"-\" * 50)\n",
                "\n",
                "def get_planeaciones_content():\n",
                "    \"\"\"Obtiene el contenido de Planeaciones de la API\"\"\"\n",
                "    try:\n",
                "        response = requests.get(f\"{API_BASE_URL}/content/planeaciones\", headers=headers, timeout=30)\n",
                "        \n",
                "        if response.status_code == 200:\n",
                "            return response.json()\n",
                "        else:\n",
                "            print(f\"\u274c Error obteniendo planeaciones: {response.status_code}\")\n",
                "            return None\n",
                "            \n",
                "    except Exception as e:\n",
                "        print(f\"\u274c Error: {str(e)}\")\n",
                "        return None\n",
                "\n",
                "planeaciones_content = get_planeaciones_content()\n",
                "\n",
                "if planeaciones_content:\n",
                "    print(f\"\u2705 Contenido Planeaciones obtenido: {len(planeaciones_content)} elementos\")\n",
                "    if len(planeaciones_content) > 0:\n",
                "        print(f\"\ud83d\udcdd Primer elemento: {planeaciones_content[0]}\")\n",
                "else:\n",
                "    print(\"\u274c No se pudo obtener el contenido de Planeaciones\")"
            ]
        },
        {
            "cell_type": "markdown",
            "metadata": {
                "id": "interactive_section"
            },
            "source": [
                "## \ud83d\udcac Chat Interactivo\n",
                "\n",
                "A continuaci\u00f3n puedes interactuar directamente con el chatbot:"
            ]
        },
        {
            "cell_type": "code",
            "execution_count": null,
            "metadata": {
                "id": "interactive_chat"
            },
            "outputs": [],
            "source": [
                "# Chat interactivo\n",
                "def interactive_chat():\n",
                "    \"\"\"Permite al usuario chatear interactivamente con el bot\"\"\"\n",
                "    print(\"\ud83d\udcac === CHAT INTERACTIVO ===\")\n",
                "    print(\"Escribe 'salir' para terminar\")\n",
                "    print(\"-\" * 50)\n",
                "    \n",
                "    # Generar un nuevo user_id para esta sesi\u00f3n\n",
                "    session_user_id = f\"interactive_user_{int(time.time())}\"\n",
                "    current_conversation_id = None\n",
                "    \n",
                "    while True:\n",
                "        user_input = input(\"\ud83d\udc64 T\u00fa: \")\n",
                "        \n",
                "        if user_input.lower() in ['salir', 'exit', 'quit']:\n",
                "            print(\"\ud83d\udc4b \u00a1Hasta luego!\")\n",
                "            break\n",
                "        \n",
                "        if not user_input.strip():\n",
                "            print(\"\u26a0\ufe0f Por favor, escribe algo\")\n",
                "            continue\n",
                "        \n",
                "        # Enviar mensaje\n",
                "        response = send_chat_message(session_user_id, user_input, current_conversation_id)\n",
                "        \n",
                "        if response:\n",
                "            print(f\"\ud83e\udd16 Bot: {response['data']['message']}\")\n",
                "            current_conversation_id = response['conversation_id']\n",
                "        else:\n",
                "            print(\"\u274c Error: No se pudo obtener respuesta del bot\")\n",
                "        \n",
                "        print(\"-\" * 30)\n",
                "\n",
                "# Descomenta la siguiente l\u00ednea para activar el chat interactivo\n",
                "# interactive_chat()"
            ]
        },
        {
            "cell_type": "markdown",
            "metadata": {
                "id": "analytics_section"
            },
            "source": [
                "## \ud83d\udcca An\u00e1lisis y Visualizaciones\n",
                "\n",
                "A continuaci\u00f3n se muestran algunas visualizaciones de ejemplo:"
            ]
        },
        {
            "cell_type": "code",
            "execution_count": null,
            "metadata": {
                "id": "response_analysis"
            },
            "outputs": [],
            "source": [
                "# An\u00e1lisis de respuestas del chatbot\n",
                "def analyze_responses():\n",
                "    \"\"\"Analiza las respuestas del chatbot\"\"\"\n",
                "    print(\"\ud83d\udcca === AN\u00c1LISIS DE RESPUESTAS ===\")\n",
                "    \n",
                "    # Simular m\u00faltiples interacciones para an\u00e1lisis\n",
                "    test_messages = [\n",
                "        \"Hola\",\n",
                "        \"\u00bfC\u00f3mo est\u00e1s?\",\n",
                "        \"Necesito ayuda con matem\u00e1ticas\",\n",
                "        \"\u00bfQu\u00e9 es la geometr\u00eda?\",\n",
                "        \"Gracias por la ayuda\"\n",
                "    ]\n",
                "    \n",
                "    responses_data = []\n",
                "    \n",
                "    for i, message in enumerate(test_messages):\n",
                "        user_id = f\"analysis_user_{i}\"\n",
                "        response = send_chat_message(user_id, message)\n",
                "        \n",
                "        if response:\n",
                "            responses_data.append({\n",
                "                'message': message,\n",
                "                'response_type': response['response_type'],\n",
                "                'response_length': len(response['data']['message']),\n",
                "                'timestamp': datetime.now().isoformat()\n",
                "            })\n",
                "        \n",
                "        # Peque\u00f1a pausa entre peticiones\n",
                "        time.sleep(1)\n",
                "    \n",
                "    return responses_data\n",
                "\n",
                "# Ejecutar an\u00e1lisis\n",
                "analysis_data = analyze_responses()\n",
                "\n",
                "if analysis_data:\n",
                "    # Crear DataFrame\n",
                "    df = pd.DataFrame(analysis_data)\n",
                "    \n",
                "    print(\"\\n\ud83d\udccb Resumen de respuestas:\")\n",
                "    print(df)\n",
                "    \n",
                "    # Visualizaci\u00f3n de tipos de respuesta\n",
                "    plt.figure(figsize=(10, 6))\n",
                "    \n",
                "    plt.subplot(1, 2, 1)\n",
                "    df['response_type'].value_counts().plot(kind='bar', color='skyblue')\n",
                "    plt.title('Tipos de Respuesta del Chatbot')\n",
                "    plt.xlabel('Tipo de Respuesta')\n",
                "    plt.ylabel('Frecuencia')\n",
                "    plt.xticks(rotation=45)\n",
                "    \n",
                "    plt.subplot(1, 2, 2)\n",
                "    plt.hist(df['response_length'], bins=10, color='lightgreen', alpha=0.7)\n",
                "    plt.title('Distribuci\u00f3n de Longitud de Respuestas')\n",
                "    plt.xlabel('Longitud de Respuesta')\n",
                "    plt.ylabel('Frecuencia')\n",
                "    \n",
                "    plt.tight_layout()\n",
                "    plt.show()\n",
                "    \n",
                "    print(f\"\\n\ud83d\udcca Estad\u00edsticas:\")\n",
                "    print(f\"- Total de respuestas analizadas: {len(df)}\")\n",
                "    print(f\"- Longitud promedio de respuesta: {df['response_length'].mean():.1f} caracteres\")\n",
                "    print(f\"- Tipos \u00fanicos de respuesta: {df['response_type'].nunique()}\")\n",
                "else:\n",
                "    print(\"\u274c No se pudo realizar el an\u00e1lisis\")"
            ]
        },
        {
            "cell_type": "markdown",
            "metadata": {
                "id": "performance_section"
            },
            "source": [
                "## \u26a1 An\u00e1lisis de Rendimiento\n",
                "\n",
                "Medici\u00f3n de tiempos de respuesta:"
            ]
        },
        {
            "cell_type": "code",
            "execution_count": null,
            "metadata": {
                "id": "performance_test"
            },
            "outputs": [],
            "source": [
                "# Test de rendimiento\n",
                "def performance_test():\n",
                "    \"\"\"Realiza un test de rendimiento de la API\"\"\"\n",
                "    print(\"\u26a1 === TEST DE RENDIMIENTO ===\")\n",
                "    \n",
                "    test_message = \"Hola, \u00bfc\u00f3mo est\u00e1s?\"\n",
                "    response_times = []\n",
                "    \n",
                "    for i in range(5):  # 5 peticiones de prueba\n",
                "        user_id = f\"perf_test_user_{i}\"\n",
                "        \n",
                "        start_time = time.time()\n",
                "        response = send_chat_message(user_id, test_message)\n",
                "        end_time = time.time()\n",
                "        \n",
                "        if response:\n",
                "            response_time = (end_time - start_time) * 1000  # Convertir a milisegundos\n",
                "            response_times.append(response_time)\n",
                "            print(f\"\u2705 Petici\u00f3n {i+1}: {response_time:.2f}ms\")\n",
                "        else:\n",
                "            print(f\"\u274c Petici\u00f3n {i+1}: Fall\u00f3\")\n",
                "        \n",
                "        time.sleep(0.5)  # Pausa entre peticiones\n",
                "    \n",
                "    if response_times:\n",
                "        avg_time = sum(response_times) / len(response_times)\n",
                "        min_time = min(response_times)\n",
                "        max_time = max(response_times)\n",
                "        \n",
                "        print(f\"\\n\ud83d\udcca Resultados del test de rendimiento:\")\n",
                "        print(f\"- Tiempo promedio: {avg_time:.2f}ms\")\n",
                "        print(f\"- Tiempo m\u00ednimo: {min_time:.2f}ms\")\n",
                "        print(f\"- Tiempo m\u00e1ximo: {max_time:.2f}ms\")\n",
                "        \n",
                "        # Gr\u00e1fica de tiempos de respuesta\n",
                "        plt.figure(figsize=(10, 6))\n",
                "        plt.plot(range(1, len(response_times) + 1), response_times, 'bo-', linewidth=2, markersize=8)\n",
                "        plt.axhline(y=avg_time, color='r', linestyle='--', label=f'Promedio: {avg_time:.2f}ms')\n",
                "        plt.title('Tiempos de Respuesta de la API')\n",
                "        plt.xlabel('N\u00famero de Petici\u00f3n')\n",
                "        plt.ylabel('Tiempo de Respuesta (ms)')\n",
                "        plt.legend()\n",
                "        plt.grid(True, alpha=0.3)\n",
                "        plt.show()\n",
                "    else:\n",
                "        print(\"\u274c No se pudo realizar el test de rendimiento\")\n",
                "\n",
                "# Ejecutar test de rendimiento\n",
                "performance_test()"
            ]
        }
    ],
    "metadata": {
        "kernelspec": {
            "display_name": "Python 3",
            "language": "python",
            "name": "python3"
        },
        "language_info": {
            "codemirror_mode": {
                "name": "ipython",
                "version": 3
            },
            "file_extension": ".py",
            "mimetype": "text/x-python",
            "name": "python",
            "nbconvert_exporter": "python",
            "pygments_lexer": "ipython3",
            "version": "3.11.6"
        }
    },
    "nbformat": 4,
    "nbformat_minor": 4
}